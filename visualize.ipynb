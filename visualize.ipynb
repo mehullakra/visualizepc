{
 "cells": [
  {
   "cell_type": "code",
   "execution_count": 1,
   "metadata": {},
   "outputs": [
    {
     "name": "stdout",
     "output_type": "stream",
     "text": [
      "Jupyter environment detected. Enabling Open3D WebVisualizer.\n",
      "[Open3D INFO] WebRTC GUI backend enabled.\n",
      "[Open3D INFO] WebRTCWindowSystem: HTTP handshake server disabled.\n"
     ]
    }
   ],
   "source": [
    "# imports here\n",
    "import numpy as np # to read the bin files\n",
    "import open3d as o3d # for working with 3d data\n",
    "import matplotlib.pyplot as plt\n"
   ]
  },
  {
   "cell_type": "markdown",
   "metadata": {},
   "source": [
    "## Loading the file"
   ]
  },
  {
   "cell_type": "code",
   "execution_count": 5,
   "metadata": {},
   "outputs": [
    {
     "name": "stdout",
     "output_type": "stream",
     "text": [
      "Loaded 115875 points from data/velodyne/000010.bin\n"
     ]
    }
   ],
   "source": [
    "# Load the .bin File\n",
    "\n",
    "def load_kitti_bin(file_path):\n",
    "    data = np.fromfile(file_path, dtype=np.float32).reshape(-1, 4)\n",
    "    return data\n",
    "file_no = \"000010\"\n",
    "file_path = \"data/velodyne/\" + file_no + \".bin\"\n",
    "points = load_kitti_bin(file_path)\n",
    "print(f\"Loaded {points.shape[0]} points from {file_path}\")"
   ]
  },
  {
   "cell_type": "markdown",
   "metadata": {},
   "source": [
    "## Visualizing the Point Cloud"
   ]
  },
  {
   "cell_type": "code",
   "execution_count": 12,
   "metadata": {},
   "outputs": [
    {
     "name": "stdout",
     "output_type": "stream",
     "text": [
      "Point cloud converted to Open3D format.\n"
     ]
    }
   ],
   "source": [
    "def convert_to_open3d_point_cloud(points):\n",
    "    pcd = o3d.geometry.PointCloud()\n",
    "    pcd.points = o3d.utility.Vector3dVector(points[:, :3])\n",
    "    if points.shape[1] == 4:\n",
    "        reflectance = points[:, 3]\n",
    "        reflectance_normalized = (reflectance - reflectance.min()) / (reflectance.max() - reflectance.min())\n",
    "        colormap = plt.cm.gray\n",
    "        colors = colormap(reflectance_normalized)[:, :3]\n",
    "        pcd.colors = o3d.utility.Vector3dVector(colors)\n",
    "    return pcd\n",
    "\n",
    "pcd = convert_to_open3d_point_cloud(points)\n",
    "print(\"Point cloud converted to Open3D format.\")"
   ]
  },
  {
   "cell_type": "code",
   "execution_count": 13,
   "metadata": {},
   "outputs": [],
   "source": [
    "# visualize\n",
    "o3d.visualization.draw_geometries([pcd])"
   ]
  },
  {
   "cell_type": "markdown",
   "metadata": {},
   "source": [
    "## Optional operations"
   ]
  },
  {
   "cell_type": "code",
   "execution_count": 48,
   "metadata": {},
   "outputs": [],
   "source": [
    "# Downsample\n",
    "voxel_size = 0.1\n",
    "pcd_downsampled = pcd.voxel_down_sample(voxel_size=voxel_size)\n",
    "\n",
    "# Remove noise\n",
    "cl, ind = pcd_downsampled.remove_statistical_outlier(nb_neighbors=20, std_ratio=2.0)\n",
    "pcd_filtered = pcd_downsampled.select_by_index(ind)"
   ]
  },
  {
   "cell_type": "code",
   "execution_count": 49,
   "metadata": {},
   "outputs": [],
   "source": [
    "# Visualize\n",
    "o3d.visualization.draw_geometries([pcd_filtered])"
   ]
  },
  {
   "cell_type": "code",
   "execution_count": null,
   "metadata": {},
   "outputs": [],
   "source": [
    "# Save to file\n",
    "o3d.io.write_point_cloud(\"processed_kitti.ply\", pcd_filtered)\n",
    "print(\"Processed point cloud saved as 'processed_kitti.ply'.\")"
   ]
  },
  {
   "cell_type": "markdown",
   "metadata": {},
   "source": [
    "## Overlaying Bounding Boxes"
   ]
  },
  {
   "cell_type": "code",
   "execution_count": 14,
   "metadata": {},
   "outputs": [],
   "source": [
    "def load_labels(label_file):\n",
    "    bounding_boxes = []\n",
    "    with open(label_file, \"r\") as f:\n",
    "        for line in f.readlines():\n",
    "            data = line.strip().split()\n",
    "            bbox = {\n",
    "                \"class\": data[0],\n",
    "                \"dimensions\": [float(data[8]), float(data[9]), float(data[10])],  # h, w, l\n",
    "                \"location\": [float(data[11]), float(data[12]), float(data[13])],  # x, y, z\n",
    "                \"rotation_y\": float(data[14])  # ry\n",
    "            }\n",
    "            bounding_boxes.append(bbox)\n",
    "    return bounding_boxes\n",
    "\n",
    "label_file = f\"data/label/{file_no}.txt\"\n",
    "bounding_boxes = load_labels(label_file)"
   ]
  },
  {
   "cell_type": "code",
   "execution_count": 19,
   "metadata": {},
   "outputs": [],
   "source": [
    "def create_3d_bounding_box(bbox):\n",
    "    import math\n",
    "\n",
    "    class_colors = {\n",
    "    \"Car\": [1, 0, 0],        # Red\n",
    "    \"Pedestrian\": [0, 1, 0], # Green\n",
    "    \"Cyclist\": [0, 0, 1]     # Blue\n",
    "    }\n",
    "\n",
    "    # Extract parameters\n",
    "    h, w, l = bbox[\"dimensions\"]\n",
    "    x, y, z = bbox[\"location\"]\n",
    "    ry = bbox[\"rotation_y\"]\n",
    "\n",
    "    # Define the 8 corners of the bounding box (before rotation)\n",
    "    corners = np.array([\n",
    "        [l/2, 0,  w/2], [l/2, 0, -w/2], [-l/2, 0, -w/2], [-l/2, 0,  w/2],  # Bottom face\n",
    "        [l/2, h,  w/2], [l/2, h, -w/2], [-l/2, h, -w/2], [-l/2, h,  w/2]   # Top face\n",
    "    ])\n",
    "\n",
    "    # Rotate and translate the corners\n",
    "    rotation_matrix = np.array([\n",
    "        [math.cos(ry), 0, math.sin(ry)],\n",
    "        [0, 1, 0],\n",
    "        [-math.sin(ry), 0, math.cos(ry)]\n",
    "    ])\n",
    "    corners = np.dot(corners, rotation_matrix.T) + np.array([x, y, z])\n",
    "\n",
    "    # Define the edges of the bounding box\n",
    "    edges = [\n",
    "        [0, 1], [1, 2], [2, 3], [3, 0],  # Bottom face\n",
    "        [4, 5], [5, 6], [6, 7], [7, 4],  # Top face\n",
    "        [0, 4], [1, 5], [2, 6], [3, 7]   # Vertical edges\n",
    "    ]\n",
    "\n",
    "    # Create an Open3D LineSet\n",
    "    line_set = o3d.geometry.LineSet()\n",
    "    line_set.points = o3d.utility.Vector3dVector(corners)\n",
    "    line_set.lines = o3d.utility.Vector2iVector(edges)\n",
    "    line_set.colors = o3d.utility.Vector3dVector([class_colors.get(bbox[\"class\"], [1, 1, 1])] * len(edges))\n",
    "\n",
    "    return line_set\n",
    "\n",
    "# Create 3D bounding boxes\n",
    "line_sets = [create_3d_bounding_box(bbox) for bbox in bounding_boxes]"
   ]
  },
  {
   "cell_type": "code",
   "execution_count": 20,
   "metadata": {},
   "outputs": [],
   "source": [
    "# Visualize point cloud with bounding boxes\n",
    "o3d.visualization.draw_geometries([pcd, *line_sets])"
   ]
  },
  {
   "cell_type": "markdown",
   "metadata": {},
   "source": [
    "## Fixing alignment of bounding boxes with pointclouds with calibration matrix"
   ]
  },
  {
   "cell_type": "code",
   "execution_count": 23,
   "metadata": {},
   "outputs": [],
   "source": [
    "def load_calibration(calib_file):\n",
    "    calib = {}\n",
    "    with open(calib_file, \"r\") as f:\n",
    "        for line in f.readlines():\n",
    "            if not line or \":\" not in line:\n",
    "                continue  # Skip blank or incorrectly formatted lines\n",
    "            key, value = line.split(\":\", 1)\n",
    "            value = [float(x) for x in value.strip().split()]\n",
    "            if key.startswith(\"P\"):\n",
    "                calib[key] = np.array(value).reshape(3, 4)  # 3x4 projection matrices\n",
    "            elif key == \"R0_rect\":\n",
    "                calib[key] = np.array(value).reshape(3, 3)  # 3x3 rectification matrix\n",
    "            elif key == \"Tr_velo_to_cam\":\n",
    "                calib[key] = np.array(value).reshape(3, 4)  # 3x4 transformation matrix\n",
    "            else:\n",
    "                calib[key] = np.array(value)\n",
    "\n",
    "    # Compute Tr_velo_to_rect\n",
    "    R0_rect = np.eye(4)\n",
    "    R0_rect[:3, :3] = calib[\"R0_rect\"]\n",
    "    Tr_velo_to_cam = np.vstack((calib[\"Tr_velo_to_cam\"], [0, 0, 0, 1]))\n",
    "    calib[\"Tr_velo_to_rect\"] = np.dot(R0_rect, Tr_velo_to_cam)\n",
    "    return calib\n",
    "\n",
    "\n",
    "# Loading calib file\n",
    "calib_file = f\"data\\calib\\{file_no}.txt\"\n",
    "calibration = load_calibration(calib_file)\n"
   ]
  },
  {
   "cell_type": "code",
   "execution_count": 24,
   "metadata": {},
   "outputs": [],
   "source": [
    "def transform_bbox_to_lidar(bbox, calib):\n",
    "    # Extract bounding box center in the camera frame\n",
    "    center_camera = np.array(bbox[\"location\"] + [1])  # Homogeneous coordinates\n",
    "    # Transform to LiDAR frame\n",
    "    Tr_rect_to_velo = np.linalg.inv(calib[\"Tr_velo_to_rect\"])\n",
    "    center_lidar = np.dot(Tr_rect_to_velo, center_camera)[:3]\n",
    "    bbox[\"location\"] = center_lidar.tolist()\n",
    "    return bbox\n",
    "\n",
    "# Apply transformation\n",
    "bounding_boxes_lidar = [transform_bbox_to_lidar(bbox, calibration) for bbox in bounding_boxes]\n"
   ]
  },
  {
   "cell_type": "code",
   "execution_count": 25,
   "metadata": {},
   "outputs": [],
   "source": [
    "for bbox in bounding_boxes_lidar:\n",
    "    bbox[\"location\"][2] -= bbox[\"dimensions\"][0] / 2  # Subtract half the height\n"
   ]
  },
  {
   "cell_type": "code",
   "execution_count": 26,
   "metadata": {},
   "outputs": [],
   "source": [
    "# # Load point cloud\n",
    "# # pcd = convert_to_open3d_point_cloud(points)\n",
    "\n",
    "# # Transform bounding boxes to LiDAR frame\n",
    "# bounding_boxes_lidar = [transform_bbox_to_lidar(bbox, calibration) for bbox in bounding_boxes]\n",
    "\n",
    "# # Adjust heights for KITTI\n",
    "# for bbox in bounding_boxes_lidar:\n",
    "#     bbox[\"location\"][2] -= bbox[\"dimensions\"][0] / 2\n",
    "\n",
    "# Create 3D bounding boxes\n",
    "line_sets = [create_3d_bounding_box(bbox) for bbox in bounding_boxes_lidar]\n",
    "\n",
    "# Visualize point cloud with bounding boxes\n",
    "o3d.visualization.draw_geometries(\n",
    "    [pcd, *line_sets],\n",
    ")\n"
   ]
  }
 ],
 "metadata": {
  "kernelspec": {
   "display_name": "visualizingpc",
   "language": "python",
   "name": "python3"
  },
  "language_info": {
   "codemirror_mode": {
    "name": "ipython",
    "version": 3
   },
   "file_extension": ".py",
   "mimetype": "text/x-python",
   "name": "python",
   "nbconvert_exporter": "python",
   "pygments_lexer": "ipython3",
   "version": "3.8.20"
  }
 },
 "nbformat": 4,
 "nbformat_minor": 2
}
